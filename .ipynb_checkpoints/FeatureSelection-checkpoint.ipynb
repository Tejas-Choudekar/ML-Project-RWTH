{
 "cells": [
  {
   "cell_type": "code",
   "execution_count": 1,
   "id": "b7598239",
   "metadata": {},
   "outputs": [],
   "source": [
    "import pandas as pd\n",
    "import seaborn as sns\n",
    "import numpy as np\n",
    "import matplotlib.pyplot as plt"
   ]
  },
  {
   "cell_type": "code",
   "execution_count": 2,
   "id": "cbbe0613",
   "metadata": {},
   "outputs": [],
   "source": [
    "pd.set_option('max_columns', None)#to view all columns\n",
    "df=pd.read_csv('outlier_treated.csv')\n",
    "df_w=pd.read_csv('with_outlier.csv')"
   ]
  },
  {
   "cell_type": "markdown",
   "id": "c455537b",
   "metadata": {},
   "source": [
    "* [1,7,11,14,18]\n",
    "* [8,17]\n",
    "* [16,26]\n",
    "* [19,23,31]\n",
    "* [28,53,54]\n",
    "* [32,52]\n",
    "\n",
    "\n",
    "are correlated. Keeping only one of those:"
   ]
  },
  {
   "cell_type": "code",
   "execution_count": 38,
   "id": "bb48a0a5",
   "metadata": {},
   "outputs": [
    {
     "data": {
      "text/plain": [
       "Index(['Unnamed: 0', 'Attr1', 'Attr2', 'Attr3', 'Attr4', 'Attr5', 'Attr6',\n",
       "       'Attr7', 'Attr8', 'Attr9', 'Attr10', 'Attr11', 'Attr12', 'Attr13',\n",
       "       'Attr14', 'Attr15', 'Attr16', 'Attr17', 'Attr18', 'Attr19', 'Attr20',\n",
       "       'Attr21', 'Attr22', 'Attr23', 'Attr24', 'Attr25', 'Attr26', 'Attr27',\n",
       "       'Attr28', 'Attr29', 'Attr30', 'Attr31', 'Attr32', 'Attr33', 'Attr34',\n",
       "       'Attr35', 'Attr36', 'Attr38', 'Attr39', 'Attr40', 'Attr41', 'Attr42',\n",
       "       'Attr43', 'Attr44', 'Attr45', 'Attr46', 'Attr47', 'Attr48', 'Attr49',\n",
       "       'Attr50', 'Attr51', 'Attr52', 'Attr53', 'Attr54', 'Attr55', 'Attr56',\n",
       "       'Attr57', 'Attr58', 'Attr59', 'Attr60', 'Attr61', 'Attr62', 'Attr63',\n",
       "       'Attr64', 'class'],\n",
       "      dtype='object')"
      ]
     },
     "execution_count": 38,
     "metadata": {},
     "output_type": "execute_result"
    }
   ],
   "source": [
    "df.columns"
   ]
  },
  {
   "cell_type": "code",
   "execution_count": 40,
   "id": "f913a2e9",
   "metadata": {},
   "outputs": [],
   "source": [
    "df2=df.drop(['Unnamed: 0','Attr1','Attr11','Attr14','Attr18','Attr17','Attr16','Attr19','Attr23','Attr28','Attr53','Attr32'], axis=1)"
   ]
  },
  {
   "cell_type": "code",
   "execution_count": 41,
   "id": "84e10e60",
   "metadata": {
    "scrolled": true
   },
   "outputs": [
    {
     "data": {
      "text/plain": [
       "Index(['Attr2', 'Attr3', 'Attr4', 'Attr5', 'Attr6', 'Attr7', 'Attr8', 'Attr9',\n",
       "       'Attr10', 'Attr12', 'Attr13', 'Attr15', 'Attr20', 'Attr21', 'Attr22',\n",
       "       'Attr24', 'Attr25', 'Attr26', 'Attr27', 'Attr29', 'Attr30', 'Attr31',\n",
       "       'Attr33', 'Attr34', 'Attr35', 'Attr36', 'Attr38', 'Attr39', 'Attr40',\n",
       "       'Attr41', 'Attr42', 'Attr43', 'Attr44', 'Attr45', 'Attr46', 'Attr47',\n",
       "       'Attr48', 'Attr49', 'Attr50', 'Attr51', 'Attr52', 'Attr54', 'Attr55',\n",
       "       'Attr56', 'Attr57', 'Attr58', 'Attr59', 'Attr60', 'Attr61', 'Attr62',\n",
       "       'Attr63', 'Attr64', 'class'],\n",
       "      dtype='object')"
      ]
     },
     "execution_count": 41,
     "metadata": {},
     "output_type": "execute_result"
    }
   ],
   "source": [
    "from sklearn.model_selection import train_test_split\n",
    "y1 = df2[\"class\"]\n",
    "X1 = df2.loc[:,df2.columns != \"class\"]\n",
    "df2.columns"
   ]
  },
  {
   "cell_type": "markdown",
   "id": "ec01d016",
   "metadata": {},
   "source": [
    "## Simple Holdout"
   ]
  },
  {
   "cell_type": "code",
   "execution_count": 42,
   "id": "ba3f6ea0",
   "metadata": {},
   "outputs": [],
   "source": [
    "\n",
    "X_train, X_test, y_train, y_test = train_test_split(X1, y1, stratify=y1, test_size=0.25, random_state=42)"
   ]
  },
  {
   "cell_type": "code",
   "execution_count": 43,
   "id": "bf1fed6b",
   "metadata": {},
   "outputs": [
    {
     "data": {
      "text/plain": [
       "Index(['Attr2', 'Attr3', 'Attr4', 'Attr5', 'Attr6', 'Attr7', 'Attr8', 'Attr9',\n",
       "       'Attr10', 'Attr12', 'Attr13', 'Attr15', 'Attr20', 'Attr21', 'Attr22',\n",
       "       'Attr24', 'Attr25', 'Attr26', 'Attr27', 'Attr29', 'Attr30', 'Attr31',\n",
       "       'Attr33', 'Attr34', 'Attr35', 'Attr36', 'Attr38', 'Attr39', 'Attr40',\n",
       "       'Attr41', 'Attr42', 'Attr43', 'Attr44', 'Attr45', 'Attr46', 'Attr47',\n",
       "       'Attr48', 'Attr49', 'Attr50', 'Attr51', 'Attr52', 'Attr54', 'Attr55',\n",
       "       'Attr56', 'Attr57', 'Attr58', 'Attr59', 'Attr60', 'Attr61', 'Attr62',\n",
       "       'Attr63', 'Attr64'],\n",
       "      dtype='object')"
      ]
     },
     "execution_count": 43,
     "metadata": {},
     "output_type": "execute_result"
    }
   ],
   "source": [
    "X_train.columns"
   ]
  },
  {
   "cell_type": "code",
   "execution_count": 44,
   "id": "684beb83",
   "metadata": {},
   "outputs": [],
   "source": [
    "from sklearn.linear_model import LogisticRegression\n",
    "from sklearn.metrics import recall_score"
   ]
  },
  {
   "cell_type": "code",
   "execution_count": 45,
   "id": "9fb7c92d",
   "metadata": {},
   "outputs": [],
   "source": [
    "logreg=LogisticRegression(penalty='l1',max_iter=1000,solver='liblinear',C=0.1,random_state=0,)"
   ]
  },
  {
   "cell_type": "code",
   "execution_count": 46,
   "id": "257ffa3e",
   "metadata": {},
   "outputs": [
    {
     "data": {
      "text/plain": [
       "LogisticRegression(C=0.1, max_iter=1000, penalty='l1', random_state=0,\n",
       "                   solver='liblinear')"
      ]
     },
     "execution_count": 46,
     "metadata": {},
     "output_type": "execute_result"
    }
   ],
   "source": [
    "logreg.fit(X_train,y_train)"
   ]
  },
  {
   "cell_type": "code",
   "execution_count": 22,
   "id": "696df6a3",
   "metadata": {},
   "outputs": [],
   "source": [
    "y_out=logreg.predict(X_test)"
   ]
  },
  {
   "cell_type": "code",
   "execution_count": 24,
   "id": "94e8c00b",
   "metadata": {},
   "outputs": [
    {
     "data": {
      "text/plain": [
       "0.8548387096774194"
      ]
     },
     "execution_count": 24,
     "metadata": {},
     "output_type": "execute_result"
    }
   ],
   "source": [
    "recall_score(y_test,y_out)"
   ]
  },
  {
   "cell_type": "code",
   "execution_count": 25,
   "id": "8dd814f2",
   "metadata": {},
   "outputs": [
    {
     "data": {
      "text/plain": [
       "0.9900990099009901"
      ]
     },
     "execution_count": 25,
     "metadata": {},
     "output_type": "execute_result"
    }
   ],
   "source": [
    "logreg.score(X_test,y_test)"
   ]
  },
  {
   "cell_type": "code",
   "execution_count": 33,
   "id": "8531b566",
   "metadata": {},
   "outputs": [
    {
     "data": {
      "text/plain": [
       "Index(['Unnamed: 0', 'Attr2', 'Attr3', 'Attr4', 'Attr5', 'Attr6', 'Attr7',\n",
       "       'Attr8', 'Attr9', 'Attr10', 'Attr12', 'Attr13', 'Attr15', 'Attr20',\n",
       "       'Attr21', 'Attr22', 'Attr24', 'Attr25', 'Attr26', 'Attr27', 'Attr29',\n",
       "       'Attr30', 'Attr31', 'Attr33', 'Attr34', 'Attr35', 'Attr36', 'Attr38',\n",
       "       'Attr39', 'Attr40', 'Attr41', 'Attr42', 'Attr43', 'Attr44', 'Attr45',\n",
       "       'Attr46', 'Attr47', 'Attr48', 'Attr49', 'Attr50', 'Attr51', 'Attr52',\n",
       "       'Attr54', 'Attr55', 'Attr56', 'Attr57', 'Attr58', 'Attr59', 'Attr60',\n",
       "       'Attr61', 'Attr62', 'Attr63', 'Attr64'],\n",
       "      dtype='object')"
      ]
     },
     "execution_count": 33,
     "metadata": {},
     "output_type": "execute_result"
    }
   ],
   "source": [
    "\n"
   ]
  },
  {
   "cell_type": "code",
   "execution_count": 47,
   "id": "53249589",
   "metadata": {
    "scrolled": true
   },
   "outputs": [
    {
     "data": {
      "image/png": "[encoded data removed]",
      "text/plain": [
       "<Figure size 936x1296 with 1 Axes>"
      ]
     },
     "metadata": {
      "needs_background": "light"
     },
     "output_type": "display_data"
    }
   ],
   "source": [
    "plt.figure(figsize=(13,18))\n",
    "plt.barh(X_train.columns, logreg.coef_[0])\n",
    "plt.title('Feature Importance', fontsize=20)\n",
    "plt.xlabel('Importance', fontsize=15)\n",
    "plt.ylabel('Attributes', fontsize=15)\n",
    "plt.xticks(fontsize=13)\n",
    "plt.yticks(fontsize=13)\n",
    "plt.show()"
   ]
  },
  {
   "cell_type": "code",
   "execution_count": 54,
   "id": "121fa8ac",
   "metadata": {},
   "outputs": [
    {
     "name": "stdout",
     "output_type": "stream",
     "text": [
      "Importance of column Attr2 is -2.0786477819724856\n",
      "Importance of column Attr3 is 0.8256968482332396\n",
      "Importance of column Attr4 is 0.0\n",
      "Importance of column Attr5 is 0.0020838670896745847\n",
      "Importance of column Attr6 is -0.9312989403175443\n",
      "Importance of column Attr7 is 0.0\n",
      "Importance of column Attr8 is -0.5958153272162886\n",
      "Importance of column Attr9 is -0.1943672302586598\n",
      "Importance of column Attr10 is 0.0\n",
      "Importance of column Attr12 is 0.0\n",
      "Importance of column Attr13 is 0.0\n",
      "Importance of column Attr15 is 3.180650296826165e-05\n",
      "Importance of column Attr20 is 0.01848597430689198\n",
      "Importance of column Attr21 is 0.0\n",
      "Importance of column Attr22 is 0.0\n",
      "Importance of column Attr24 is 0.0\n",
      "Importance of column Attr25 is 0.0\n",
      "Importance of column Attr26 is -0.39183665250164557\n",
      "Importance of column Attr27 is 0.0\n",
      "Importance of column Attr29 is -0.1743229090383648\n",
      "Importance of column Attr30 is 0.0\n",
      "Importance of column Attr31 is 0.0\n",
      "Importance of column Attr33 is 0.2693333846079242\n",
      "Importance of column Attr34 is 0.002980555720353622\n",
      "Importance of column Attr35 is 0.0\n",
      "Importance of column Attr36 is 0.09706975153316534\n",
      "Importance of column Attr38 is 0.0\n",
      "Importance of column Attr39 is 0.0\n",
      "Importance of column Attr40 is 0.0\n",
      "Importance of column Attr41 is 0.0\n",
      "Importance of column Attr42 is 0.0\n",
      "Importance of column Attr43 is -0.0035004607066511802\n",
      "Importance of column Attr44 is 0.005645519594861634\n",
      "Importance of column Attr45 is -0.27799263851656025\n",
      "Importance of column Attr46 is -0.546815550746284\n",
      "Importance of column Attr47 is -0.018372205924965867\n",
      "Importance of column Attr48 is 0.0\n",
      "Importance of column Attr49 is 0.0\n",
      "Importance of column Attr50 is 0.0\n",
      "Importance of column Attr51 is 0.0\n",
      "Importance of column Attr52 is 0.0\n",
      "Importance of column Attr54 is -0.19854532570221425\n",
      "Importance of column Attr55 is -2.614514996924383e-05\n",
      "Importance of column Attr56 is 0.0\n",
      "Importance of column Attr57 is 0.0\n",
      "Importance of column Attr58 is -1.2050704109229617\n",
      "Importance of column Attr59 is 0.0\n",
      "Importance of column Attr60 is -0.020505401038378564\n",
      "Importance of column Attr61 is 0.04613292894591114\n",
      "Importance of column Attr62 is 0.010004157823790102\n",
      "Importance of column Attr63 is -0.15627922544318373\n",
      "Importance of column Attr64 is 0.026441113621705925\n"
     ]
    }
   ],
   "source": [
    "list=[]\n",
    "for idx,col in enumerate (X_train.columns):\n",
    "    print(f\"Importance of column {col} is {logreg.coef_[0][idx]}\")\n",
    "    if abs(logreg.coef_[0][idx])>0.5:\n",
    "        list.append(col)"
   ]
  },
  {
   "cell_type": "code",
   "execution_count": 55,
   "id": "b2eb057f",
   "metadata": {},
   "outputs": [
    {
     "data": {
      "text/plain": [
       "['Attr2', 'Attr3', 'Attr6', 'Attr8', 'Attr46', 'Attr58']"
      ]
     },
     "execution_count": 55,
     "metadata": {},
     "output_type": "execute_result"
    }
   ],
   "source": [
    "list"
   ]
  },
  {
   "cell_type": "markdown",
   "id": "daeb0091",
   "metadata": {},
   "source": [
    "**Above are most important feature**"
   ]
  },
  {
   "cell_type": "markdown",
   "id": "022d5ca9",
   "metadata": {},
   "source": [
    "**Logistic Regression with 54 features on outlier treated data gives a recall of 85.5 percent**"
   ]
  },
  {
   "cell_type": "code",
   "execution_count": 30,
   "id": "50d5c730",
   "metadata": {},
   "outputs": [
    {
     "data": {
      "text/plain": [
       "array([0.001, 0.01 , 0.1  , 1.   ])"
      ]
     },
     "execution_count": 30,
     "metadata": {},
     "output_type": "execute_result"
    }
   ],
   "source": [
    "np.logspace(-3,0,4)"
   ]
  },
  {
   "cell_type": "code",
   "execution_count": null,
   "id": "df4dbd35",
   "metadata": {},
   "outputs": [],
   "source": []
  }
 ],
 "metadata": {
  "kernelspec": {
   "display_name": "Python 3 (ipykernel)",
   "language": "python",
   "name": "python3"
  },
  "language_info": {
   "codemirror_mode": {
    "name": "ipython",
    "version": 3
   },
   "file_extension": ".py",
   "mimetype": "text/x-python",
   "name": "python",
   "nbconvert_exporter": "python",
   "pygments_lexer": "ipython3",
   "version": "3.10.0"
  }
 },
 "nbformat": 4,
 "nbformat_minor": 5
}
